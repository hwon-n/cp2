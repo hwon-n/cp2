{
  "cells": [
    {
      "cell_type": "markdown",
      "metadata": {
        "id": "view-in-github",
        "colab_type": "text"
      },
      "source": [
        "<a href=\"https://colab.research.google.com/github/hwon-n/cp2/blob/hyewon/CP2_KoSpacing.ipynb\" target=\"_parent\"><img src=\"https://colab.research.google.com/assets/colab-badge.svg\" alt=\"Open In Colab\"/></a>"
      ]
    },
    {
      "cell_type": "markdown",
      "metadata": {
        "id": "2J2kElC3mkwU"
      },
      "source": [
        "# 띄어쓰기 검사 모델 구현하기"
      ]
    },
    {
      "cell_type": "markdown",
      "metadata": {
        "id": "bEqSiuM1m3a5"
      },
      "source": [
        "## 필요한 패키지 다운로드"
      ]
    },
    {
      "cell_type": "code",
      "execution_count": 1,
      "metadata": {
        "colab": {
          "base_uri": "https://localhost:8080/"
        },
        "id": "G2taSuFyo27r",
        "outputId": "e4d299c9-7c6e-4b29-ad95-d372b2e03a1d"
      },
      "outputs": [
        {
          "output_type": "stream",
          "name": "stdout",
          "text": [
            "Drive already mounted at /content/drive; to attempt to forcibly remount, call drive.mount(\"/content/drive\", force_remount=True).\n"
          ]
        }
      ],
      "source": [
        "from google.colab import drive\n",
        "drive.mount('/content/drive')"
      ]
    },
    {
      "cell_type": "code",
      "execution_count": 2,
      "metadata": {
        "colab": {
          "base_uri": "https://localhost:8080/",
          "height": 1000
        },
        "id": "zsMpUNHmmvr3",
        "outputId": "8de4946d-77e0-4f97-8f05-d60b41d7bf55"
      },
      "outputs": [
        {
          "output_type": "stream",
          "name": "stdout",
          "text": [
            "Collecting git+https://github.com/haven-jeon/PyKoSpacing.git\n",
            "  Cloning https://github.com/haven-jeon/PyKoSpacing.git to /tmp/pip-req-build-qfjw6azi\n",
            "  Running command git clone -q https://github.com/haven-jeon/PyKoSpacing.git /tmp/pip-req-build-qfjw6azi\n",
            "Collecting tensorflow==2.5.3\n",
            "  Downloading tensorflow-2.5.3-cp37-cp37m-manylinux2010_x86_64.whl (460.3 MB)\n",
            "\u001b[K     |████████████████████████████████| 460.3 MB 7.9 kB/s \n",
            "\u001b[?25hRequirement already satisfied: h5py==3.1.0 in /usr/local/lib/python3.7/dist-packages (from pykospacing==0.5) (3.1.0)\n",
            "Collecting argparse>=1.4.0\n",
            "  Downloading argparse-1.4.0-py2.py3-none-any.whl (23 kB)\n",
            "Requirement already satisfied: cached-property in /usr/local/lib/python3.7/dist-packages (from h5py==3.1.0->pykospacing==0.5) (1.5.2)\n",
            "Requirement already satisfied: numpy>=1.14.5 in /usr/local/lib/python3.7/dist-packages (from h5py==3.1.0->pykospacing==0.5) (1.21.5)\n",
            "Requirement already satisfied: wheel~=0.35 in /usr/local/lib/python3.7/dist-packages (from tensorflow==2.5.3->pykospacing==0.5) (0.37.1)\n",
            "Requirement already satisfied: tensorboard~=2.5 in /usr/local/lib/python3.7/dist-packages (from tensorflow==2.5.3->pykospacing==0.5) (2.8.0)\n",
            "Collecting wrapt~=1.12.1\n",
            "  Downloading wrapt-1.12.1.tar.gz (27 kB)\n",
            "Requirement already satisfied: opt-einsum~=3.3.0 in /usr/local/lib/python3.7/dist-packages (from tensorflow==2.5.3->pykospacing==0.5) (3.3.0)\n",
            "Collecting flatbuffers~=1.12.0\n",
            "  Downloading flatbuffers-1.12-py2.py3-none-any.whl (15 kB)\n",
            "Collecting gast==0.4.0\n",
            "  Downloading gast-0.4.0-py3-none-any.whl (9.8 kB)\n",
            "Requirement already satisfied: protobuf>=3.9.2 in /usr/local/lib/python3.7/dist-packages (from tensorflow==2.5.3->pykospacing==0.5) (3.17.3)\n",
            "Collecting tensorflow-estimator<2.6.0,>=2.5.0\n",
            "  Downloading tensorflow_estimator-2.5.0-py2.py3-none-any.whl (462 kB)\n",
            "\u001b[K     |████████████████████████████████| 462 kB 60.3 MB/s \n",
            "\u001b[?25hCollecting absl-py~=0.10\n",
            "  Downloading absl_py-0.15.0-py3-none-any.whl (132 kB)\n",
            "\u001b[K     |████████████████████████████████| 132 kB 57.5 MB/s \n",
            "\u001b[?25hRequirement already satisfied: termcolor~=1.1.0 in /usr/local/lib/python3.7/dist-packages (from tensorflow==2.5.3->pykospacing==0.5) (1.1.0)\n",
            "Collecting keras-nightly~=2.5.0.dev\n",
            "  Downloading keras_nightly-2.5.0.dev2021032900-py2.py3-none-any.whl (1.2 MB)\n",
            "\u001b[K     |████████████████████████████████| 1.2 MB 46.5 MB/s \n",
            "\u001b[?25hCollecting numpy>=1.14.5\n",
            "  Downloading numpy-1.19.5-cp37-cp37m-manylinux2010_x86_64.whl (14.8 MB)\n",
            "\u001b[K     |████████████████████████████████| 14.8 MB 31.4 MB/s \n",
            "\u001b[?25hRequirement already satisfied: astunparse~=1.6.3 in /usr/local/lib/python3.7/dist-packages (from tensorflow==2.5.3->pykospacing==0.5) (1.6.3)\n",
            "Requirement already satisfied: google-pasta~=0.2 in /usr/local/lib/python3.7/dist-packages (from tensorflow==2.5.3->pykospacing==0.5) (0.2.0)\n",
            "Collecting grpcio~=1.34.0\n",
            "  Downloading grpcio-1.34.1-cp37-cp37m-manylinux2014_x86_64.whl (4.0 MB)\n",
            "\u001b[K     |████████████████████████████████| 4.0 MB 26.0 MB/s \n",
            "\u001b[?25hCollecting typing-extensions~=3.7.4\n",
            "  Downloading typing_extensions-3.7.4.3-py3-none-any.whl (22 kB)\n",
            "Requirement already satisfied: keras-preprocessing~=1.1.2 in /usr/local/lib/python3.7/dist-packages (from tensorflow==2.5.3->pykospacing==0.5) (1.1.2)\n",
            "Requirement already satisfied: six~=1.15.0 in /usr/local/lib/python3.7/dist-packages (from tensorflow==2.5.3->pykospacing==0.5) (1.15.0)\n",
            "Requirement already satisfied: markdown>=2.6.8 in /usr/local/lib/python3.7/dist-packages (from tensorboard~=2.5->tensorflow==2.5.3->pykospacing==0.5) (3.3.6)\n",
            "Requirement already satisfied: tensorboard-plugin-wit>=1.6.0 in /usr/local/lib/python3.7/dist-packages (from tensorboard~=2.5->tensorflow==2.5.3->pykospacing==0.5) (1.8.1)\n",
            "Requirement already satisfied: google-auth-oauthlib<0.5,>=0.4.1 in /usr/local/lib/python3.7/dist-packages (from tensorboard~=2.5->tensorflow==2.5.3->pykospacing==0.5) (0.4.6)\n",
            "Requirement already satisfied: setuptools>=41.0.0 in /usr/local/lib/python3.7/dist-packages (from tensorboard~=2.5->tensorflow==2.5.3->pykospacing==0.5) (57.4.0)\n",
            "Requirement already satisfied: tensorboard-data-server<0.7.0,>=0.6.0 in /usr/local/lib/python3.7/dist-packages (from tensorboard~=2.5->tensorflow==2.5.3->pykospacing==0.5) (0.6.1)\n",
            "Requirement already satisfied: werkzeug>=0.11.15 in /usr/local/lib/python3.7/dist-packages (from tensorboard~=2.5->tensorflow==2.5.3->pykospacing==0.5) (1.0.1)\n",
            "Requirement already satisfied: requests<3,>=2.21.0 in /usr/local/lib/python3.7/dist-packages (from tensorboard~=2.5->tensorflow==2.5.3->pykospacing==0.5) (2.23.0)\n",
            "Requirement already satisfied: google-auth<3,>=1.6.3 in /usr/local/lib/python3.7/dist-packages (from tensorboard~=2.5->tensorflow==2.5.3->pykospacing==0.5) (1.35.0)\n",
            "Requirement already satisfied: cachetools<5.0,>=2.0.0 in /usr/local/lib/python3.7/dist-packages (from google-auth<3,>=1.6.3->tensorboard~=2.5->tensorflow==2.5.3->pykospacing==0.5) (4.2.4)\n",
            "Requirement already satisfied: rsa<5,>=3.1.4 in /usr/local/lib/python3.7/dist-packages (from google-auth<3,>=1.6.3->tensorboard~=2.5->tensorflow==2.5.3->pykospacing==0.5) (4.8)\n",
            "Requirement already satisfied: pyasn1-modules>=0.2.1 in /usr/local/lib/python3.7/dist-packages (from google-auth<3,>=1.6.3->tensorboard~=2.5->tensorflow==2.5.3->pykospacing==0.5) (0.2.8)\n",
            "Requirement already satisfied: requests-oauthlib>=0.7.0 in /usr/local/lib/python3.7/dist-packages (from google-auth-oauthlib<0.5,>=0.4.1->tensorboard~=2.5->tensorflow==2.5.3->pykospacing==0.5) (1.3.1)\n",
            "Requirement already satisfied: importlib-metadata>=4.4 in /usr/local/lib/python3.7/dist-packages (from markdown>=2.6.8->tensorboard~=2.5->tensorflow==2.5.3->pykospacing==0.5) (4.11.2)\n",
            "Requirement already satisfied: zipp>=0.5 in /usr/local/lib/python3.7/dist-packages (from importlib-metadata>=4.4->markdown>=2.6.8->tensorboard~=2.5->tensorflow==2.5.3->pykospacing==0.5) (3.7.0)\n",
            "Requirement already satisfied: pyasn1<0.5.0,>=0.4.6 in /usr/local/lib/python3.7/dist-packages (from pyasn1-modules>=0.2.1->google-auth<3,>=1.6.3->tensorboard~=2.5->tensorflow==2.5.3->pykospacing==0.5) (0.4.8)\n",
            "Requirement already satisfied: urllib3!=1.25.0,!=1.25.1,<1.26,>=1.21.1 in /usr/local/lib/python3.7/dist-packages (from requests<3,>=2.21.0->tensorboard~=2.5->tensorflow==2.5.3->pykospacing==0.5) (1.24.3)\n",
            "Requirement already satisfied: idna<3,>=2.5 in /usr/local/lib/python3.7/dist-packages (from requests<3,>=2.21.0->tensorboard~=2.5->tensorflow==2.5.3->pykospacing==0.5) (2.10)\n",
            "Requirement already satisfied: chardet<4,>=3.0.2 in /usr/local/lib/python3.7/dist-packages (from requests<3,>=2.21.0->tensorboard~=2.5->tensorflow==2.5.3->pykospacing==0.5) (3.0.4)\n",
            "Requirement already satisfied: certifi>=2017.4.17 in /usr/local/lib/python3.7/dist-packages (from requests<3,>=2.21.0->tensorboard~=2.5->tensorflow==2.5.3->pykospacing==0.5) (2021.10.8)\n",
            "Requirement already satisfied: oauthlib>=3.0.0 in /usr/local/lib/python3.7/dist-packages (from requests-oauthlib>=0.7.0->google-auth-oauthlib<0.5,>=0.4.1->tensorboard~=2.5->tensorflow==2.5.3->pykospacing==0.5) (3.2.0)\n",
            "Building wheels for collected packages: pykospacing, wrapt\n",
            "  Building wheel for pykospacing (setup.py) ... \u001b[?25l\u001b[?25hdone\n",
            "  Created wheel for pykospacing: filename=pykospacing-0.5-py3-none-any.whl size=2268580 sha256=e801593666662908c4a8782bd6632408ce8360fe1078268a287b7d9a53e7c6ff\n",
            "  Stored in directory: /tmp/pip-ephem-wheel-cache-eej18plh/wheels/9b/93/81/a2a7dc8c66ede5bf30634d20635f32b95eac7ca2ea8844058b\n",
            "  Building wheel for wrapt (setup.py) ... \u001b[?25l\u001b[?25hdone\n",
            "  Created wheel for wrapt: filename=wrapt-1.12.1-cp37-cp37m-linux_x86_64.whl size=68724 sha256=5e0ef85793cb5aa3e684df60c4b913f523cfe8aa900f8c37786b50e215c73d74\n",
            "  Stored in directory: /root/.cache/pip/wheels/62/76/4c/aa25851149f3f6d9785f6c869387ad82b3fd37582fa8147ac6\n",
            "Successfully built pykospacing wrapt\n",
            "Installing collected packages: typing-extensions, numpy, grpcio, absl-py, wrapt, tensorflow-estimator, keras-nightly, gast, flatbuffers, tensorflow, argparse, pykospacing\n",
            "  Attempting uninstall: typing-extensions\n",
            "    Found existing installation: typing-extensions 3.10.0.2\n",
            "    Uninstalling typing-extensions-3.10.0.2:\n",
            "      Successfully uninstalled typing-extensions-3.10.0.2\n",
            "  Attempting uninstall: numpy\n",
            "    Found existing installation: numpy 1.21.5\n",
            "    Uninstalling numpy-1.21.5:\n",
            "      Successfully uninstalled numpy-1.21.5\n",
            "  Attempting uninstall: grpcio\n",
            "    Found existing installation: grpcio 1.44.0\n",
            "    Uninstalling grpcio-1.44.0:\n",
            "      Successfully uninstalled grpcio-1.44.0\n",
            "  Attempting uninstall: absl-py\n",
            "    Found existing installation: absl-py 1.0.0\n",
            "    Uninstalling absl-py-1.0.0:\n",
            "      Successfully uninstalled absl-py-1.0.0\n",
            "  Attempting uninstall: wrapt\n",
            "    Found existing installation: wrapt 1.13.3\n",
            "    Uninstalling wrapt-1.13.3:\n",
            "      Successfully uninstalled wrapt-1.13.3\n",
            "  Attempting uninstall: tensorflow-estimator\n",
            "    Found existing installation: tensorflow-estimator 2.8.0\n",
            "    Uninstalling tensorflow-estimator-2.8.0:\n",
            "      Successfully uninstalled tensorflow-estimator-2.8.0\n",
            "  Attempting uninstall: gast\n",
            "    Found existing installation: gast 0.5.3\n",
            "    Uninstalling gast-0.5.3:\n",
            "      Successfully uninstalled gast-0.5.3\n",
            "  Attempting uninstall: flatbuffers\n",
            "    Found existing installation: flatbuffers 2.0\n",
            "    Uninstalling flatbuffers-2.0:\n",
            "      Successfully uninstalled flatbuffers-2.0\n",
            "  Attempting uninstall: tensorflow\n",
            "    Found existing installation: tensorflow 2.8.0\n",
            "    Uninstalling tensorflow-2.8.0:\n",
            "      Successfully uninstalled tensorflow-2.8.0\n",
            "\u001b[31mERROR: pip's dependency resolver does not currently take into account all the packages that are installed. This behaviour is the source of the following dependency conflicts.\n",
            "datascience 0.10.6 requires folium==0.2.1, but you have folium 0.8.3 which is incompatible.\n",
            "albumentations 0.1.12 requires imgaug<0.2.7,>=0.2.5, but you have imgaug 0.2.9 which is incompatible.\u001b[0m\n",
            "Successfully installed absl-py-0.15.0 argparse-1.4.0 flatbuffers-1.12 gast-0.4.0 grpcio-1.34.1 keras-nightly-2.5.0.dev2021032900 numpy-1.19.5 pykospacing-0.5 tensorflow-2.5.3 tensorflow-estimator-2.5.0 typing-extensions-3.7.4.3 wrapt-1.12.1\n"
          ]
        },
        {
          "output_type": "display_data",
          "data": {
            "application/vnd.colab-display-data+json": {
              "pip_warning": {
                "packages": [
                  "argparse",
                  "numpy"
                ]
              }
            }
          },
          "metadata": {}
        }
      ],
      "source": [
        "pip install git+https://github.com/haven-jeon/PyKoSpacing.git"
      ]
    },
    {
      "cell_type": "code",
      "execution_count": 3,
      "metadata": {
        "colab": {
          "base_uri": "https://localhost:8080/"
        },
        "id": "zf3K_wAi4aho",
        "outputId": "7b1a1e63-3648-44e1-92d5-7154e12a7f29"
      },
      "outputs": [
        {
          "output_type": "stream",
          "name": "stdout",
          "text": [
            "Collecting git+https://github.com/ssut/py-hanspell.git\n",
            "  Cloning https://github.com/ssut/py-hanspell.git to /tmp/pip-req-build-_hsl3e5y\n",
            "  Running command git clone -q https://github.com/ssut/py-hanspell.git /tmp/pip-req-build-_hsl3e5y\n",
            "Requirement already satisfied: requests in /usr/local/lib/python3.7/dist-packages (from py-hanspell==1.1) (2.23.0)\n",
            "Requirement already satisfied: certifi>=2017.4.17 in /usr/local/lib/python3.7/dist-packages (from requests->py-hanspell==1.1) (2021.10.8)\n",
            "Requirement already satisfied: idna<3,>=2.5 in /usr/local/lib/python3.7/dist-packages (from requests->py-hanspell==1.1) (2.10)\n",
            "Requirement already satisfied: urllib3!=1.25.0,!=1.25.1,<1.26,>=1.21.1 in /usr/local/lib/python3.7/dist-packages (from requests->py-hanspell==1.1) (1.24.3)\n",
            "Requirement already satisfied: chardet<4,>=3.0.2 in /usr/local/lib/python3.7/dist-packages (from requests->py-hanspell==1.1) (3.0.4)\n",
            "Building wheels for collected packages: py-hanspell\n",
            "  Building wheel for py-hanspell (setup.py) ... \u001b[?25l\u001b[?25hdone\n",
            "  Created wheel for py-hanspell: filename=py_hanspell-1.1-py3-none-any.whl size=4868 sha256=a67af76d19f68d884b434116366c59b54fcd50e983d4b60bb2333362dc1f5b6f\n",
            "  Stored in directory: /tmp/pip-ephem-wheel-cache-qnj6jo95/wheels/ab/f5/7b/d4124bb329c905301baed80e2ae45aa14e824f62ebc3ec2cc4\n",
            "Successfully built py-hanspell\n",
            "Installing collected packages: py-hanspell\n",
            "Successfully installed py-hanspell-1.1\n"
          ]
        }
      ],
      "source": [
        "pip install git+https://github.com/ssut/py-hanspell.git"
      ]
    },
    {
      "cell_type": "code",
      "execution_count": 4,
      "metadata": {
        "colab": {
          "base_uri": "https://localhost:8080/"
        },
        "id": "sPw2mz7O6G7l",
        "outputId": "75258bbb-dc6c-4600-dbc0-3bfe0979cebf"
      },
      "outputs": [
        {
          "output_type": "stream",
          "name": "stdout",
          "text": [
            "Collecting soynlp\n",
            "  Downloading soynlp-0.0.493-py3-none-any.whl (416 kB)\n",
            "\u001b[?25l\r\u001b[K     |▉                               | 10 kB 33.6 MB/s eta 0:00:01\r\u001b[K     |█▋                              | 20 kB 36.1 MB/s eta 0:00:01\r\u001b[K     |██▍                             | 30 kB 37.6 MB/s eta 0:00:01\r\u001b[K     |███▏                            | 40 kB 39.9 MB/s eta 0:00:01\r\u001b[K     |████                            | 51 kB 28.9 MB/s eta 0:00:01\r\u001b[K     |████▊                           | 61 kB 32.1 MB/s eta 0:00:01\r\u001b[K     |█████▌                          | 71 kB 24.0 MB/s eta 0:00:01\r\u001b[K     |██████▎                         | 81 kB 23.4 MB/s eta 0:00:01\r\u001b[K     |███████                         | 92 kB 25.1 MB/s eta 0:00:01\r\u001b[K     |███████▉                        | 102 kB 26.7 MB/s eta 0:00:01\r\u001b[K     |████████▋                       | 112 kB 26.7 MB/s eta 0:00:01\r\u001b[K     |█████████▍                      | 122 kB 26.7 MB/s eta 0:00:01\r\u001b[K     |██████████▏                     | 133 kB 26.7 MB/s eta 0:00:01\r\u001b[K     |███████████                     | 143 kB 26.7 MB/s eta 0:00:01\r\u001b[K     |███████████▉                    | 153 kB 26.7 MB/s eta 0:00:01\r\u001b[K     |████████████▋                   | 163 kB 26.7 MB/s eta 0:00:01\r\u001b[K     |█████████████▍                  | 174 kB 26.7 MB/s eta 0:00:01\r\u001b[K     |██████████████▏                 | 184 kB 26.7 MB/s eta 0:00:01\r\u001b[K     |███████████████                 | 194 kB 26.7 MB/s eta 0:00:01\r\u001b[K     |███████████████▊                | 204 kB 26.7 MB/s eta 0:00:01\r\u001b[K     |████████████████▌               | 215 kB 26.7 MB/s eta 0:00:01\r\u001b[K     |█████████████████▎              | 225 kB 26.7 MB/s eta 0:00:01\r\u001b[K     |██████████████████              | 235 kB 26.7 MB/s eta 0:00:01\r\u001b[K     |██████████████████▉             | 245 kB 26.7 MB/s eta 0:00:01\r\u001b[K     |███████████████████▋            | 256 kB 26.7 MB/s eta 0:00:01\r\u001b[K     |████████████████████▍           | 266 kB 26.7 MB/s eta 0:00:01\r\u001b[K     |█████████████████████▎          | 276 kB 26.7 MB/s eta 0:00:01\r\u001b[K     |██████████████████████          | 286 kB 26.7 MB/s eta 0:00:01\r\u001b[K     |██████████████████████▉         | 296 kB 26.7 MB/s eta 0:00:01\r\u001b[K     |███████████████████████▋        | 307 kB 26.7 MB/s eta 0:00:01\r\u001b[K     |████████████████████████▍       | 317 kB 26.7 MB/s eta 0:00:01\r\u001b[K     |█████████████████████████▏      | 327 kB 26.7 MB/s eta 0:00:01\r\u001b[K     |██████████████████████████      | 337 kB 26.7 MB/s eta 0:00:01\r\u001b[K     |██████████████████████████▊     | 348 kB 26.7 MB/s eta 0:00:01\r\u001b[K     |███████████████████████████▌    | 358 kB 26.7 MB/s eta 0:00:01\r\u001b[K     |████████████████████████████▎   | 368 kB 26.7 MB/s eta 0:00:01\r\u001b[K     |█████████████████████████████   | 378 kB 26.7 MB/s eta 0:00:01\r\u001b[K     |█████████████████████████████▉  | 389 kB 26.7 MB/s eta 0:00:01\r\u001b[K     |██████████████████████████████▋ | 399 kB 26.7 MB/s eta 0:00:01\r\u001b[K     |███████████████████████████████▌| 409 kB 26.7 MB/s eta 0:00:01\r\u001b[K     |████████████████████████████████| 416 kB 26.7 MB/s \n",
            "\u001b[?25hRequirement already satisfied: scipy>=1.1.0 in /usr/local/lib/python3.7/dist-packages (from soynlp) (1.4.1)\n",
            "Requirement already satisfied: psutil>=5.0.1 in /usr/local/lib/python3.7/dist-packages (from soynlp) (5.4.8)\n",
            "Requirement already satisfied: numpy>=1.12.1 in /usr/local/lib/python3.7/dist-packages (from soynlp) (1.19.5)\n",
            "Requirement already satisfied: scikit-learn>=0.20.0 in /usr/local/lib/python3.7/dist-packages (from soynlp) (1.0.2)\n",
            "Requirement already satisfied: threadpoolctl>=2.0.0 in /usr/local/lib/python3.7/dist-packages (from scikit-learn>=0.20.0->soynlp) (3.1.0)\n",
            "Requirement already satisfied: joblib>=0.11 in /usr/local/lib/python3.7/dist-packages (from scikit-learn>=0.20.0->soynlp) (1.1.0)\n",
            "Installing collected packages: soynlp\n",
            "Successfully installed soynlp-0.0.493\n"
          ]
        }
      ],
      "source": [
        "pip install soynlp"
      ]
    },
    {
      "cell_type": "code",
      "execution_count": 5,
      "metadata": {
        "colab": {
          "base_uri": "https://localhost:8080/"
        },
        "id": "X0W6cVCW7KDX",
        "outputId": "a7156954-9858-4fd8-a7c1-4d7300615fb9"
      },
      "outputs": [
        {
          "output_type": "stream",
          "name": "stdout",
          "text": [
            "Collecting customized_konlpy\n",
            "  Downloading customized_konlpy-0.0.64-py3-none-any.whl (881 kB)\n",
            "\u001b[?25l\r\u001b[K     |▍                               | 10 kB 34.1 MB/s eta 0:00:01\r\u001b[K     |▊                               | 20 kB 34.0 MB/s eta 0:00:01\r\u001b[K     |█▏                              | 30 kB 37.3 MB/s eta 0:00:01\r\u001b[K     |█▌                              | 40 kB 28.0 MB/s eta 0:00:01\r\u001b[K     |█▉                              | 51 kB 21.2 MB/s eta 0:00:01\r\u001b[K     |██▎                             | 61 kB 23.6 MB/s eta 0:00:01\r\u001b[K     |██▋                             | 71 kB 25.2 MB/s eta 0:00:01\r\u001b[K     |███                             | 81 kB 26.3 MB/s eta 0:00:01\r\u001b[K     |███▍                            | 92 kB 28.3 MB/s eta 0:00:01\r\u001b[K     |███▊                            | 102 kB 28.1 MB/s eta 0:00:01\r\u001b[K     |████                            | 112 kB 28.1 MB/s eta 0:00:01\r\u001b[K     |████▌                           | 122 kB 28.1 MB/s eta 0:00:01\r\u001b[K     |████▉                           | 133 kB 28.1 MB/s eta 0:00:01\r\u001b[K     |█████▏                          | 143 kB 28.1 MB/s eta 0:00:01\r\u001b[K     |█████▋                          | 153 kB 28.1 MB/s eta 0:00:01\r\u001b[K     |██████                          | 163 kB 28.1 MB/s eta 0:00:01\r\u001b[K     |██████▎                         | 174 kB 28.1 MB/s eta 0:00:01\r\u001b[K     |██████▊                         | 184 kB 28.1 MB/s eta 0:00:01\r\u001b[K     |███████                         | 194 kB 28.1 MB/s eta 0:00:01\r\u001b[K     |███████▍                        | 204 kB 28.1 MB/s eta 0:00:01\r\u001b[K     |███████▉                        | 215 kB 28.1 MB/s eta 0:00:01\r\u001b[K     |████████▏                       | 225 kB 28.1 MB/s eta 0:00:01\r\u001b[K     |████████▌                       | 235 kB 28.1 MB/s eta 0:00:01\r\u001b[K     |█████████                       | 245 kB 28.1 MB/s eta 0:00:01\r\u001b[K     |█████████▎                      | 256 kB 28.1 MB/s eta 0:00:01\r\u001b[K     |█████████▋                      | 266 kB 28.1 MB/s eta 0:00:01\r\u001b[K     |██████████                      | 276 kB 28.1 MB/s eta 0:00:01\r\u001b[K     |██████████▍                     | 286 kB 28.1 MB/s eta 0:00:01\r\u001b[K     |██████████▉                     | 296 kB 28.1 MB/s eta 0:00:01\r\u001b[K     |███████████▏                    | 307 kB 28.1 MB/s eta 0:00:01\r\u001b[K     |███████████▌                    | 317 kB 28.1 MB/s eta 0:00:01\r\u001b[K     |████████████                    | 327 kB 28.1 MB/s eta 0:00:01\r\u001b[K     |████████████▎                   | 337 kB 28.1 MB/s eta 0:00:01\r\u001b[K     |████████████▋                   | 348 kB 28.1 MB/s eta 0:00:01\r\u001b[K     |█████████████                   | 358 kB 28.1 MB/s eta 0:00:01\r\u001b[K     |█████████████▍                  | 368 kB 28.1 MB/s eta 0:00:01\r\u001b[K     |█████████████▊                  | 378 kB 28.1 MB/s eta 0:00:01\r\u001b[K     |██████████████▏                 | 389 kB 28.1 MB/s eta 0:00:01\r\u001b[K     |██████████████▌                 | 399 kB 28.1 MB/s eta 0:00:01\r\u001b[K     |██████████████▉                 | 409 kB 28.1 MB/s eta 0:00:01\r\u001b[K     |███████████████▎                | 419 kB 28.1 MB/s eta 0:00:01\r\u001b[K     |███████████████▋                | 430 kB 28.1 MB/s eta 0:00:01\r\u001b[K     |████████████████                | 440 kB 28.1 MB/s eta 0:00:01\r\u001b[K     |████████████████▍               | 450 kB 28.1 MB/s eta 0:00:01\r\u001b[K     |████████████████▊               | 460 kB 28.1 MB/s eta 0:00:01\r\u001b[K     |█████████████████               | 471 kB 28.1 MB/s eta 0:00:01\r\u001b[K     |█████████████████▌              | 481 kB 28.1 MB/s eta 0:00:01\r\u001b[K     |█████████████████▉              | 491 kB 28.1 MB/s eta 0:00:01\r\u001b[K     |██████████████████▏             | 501 kB 28.1 MB/s eta 0:00:01\r\u001b[K     |██████████████████▋             | 512 kB 28.1 MB/s eta 0:00:01\r\u001b[K     |███████████████████             | 522 kB 28.1 MB/s eta 0:00:01\r\u001b[K     |███████████████████▎            | 532 kB 28.1 MB/s eta 0:00:01\r\u001b[K     |███████████████████▊            | 542 kB 28.1 MB/s eta 0:00:01\r\u001b[K     |████████████████████            | 552 kB 28.1 MB/s eta 0:00:01\r\u001b[K     |████████████████████▌           | 563 kB 28.1 MB/s eta 0:00:01\r\u001b[K     |████████████████████▉           | 573 kB 28.1 MB/s eta 0:00:01\r\u001b[K     |█████████████████████▏          | 583 kB 28.1 MB/s eta 0:00:01\r\u001b[K     |█████████████████████▋          | 593 kB 28.1 MB/s eta 0:00:01\r\u001b[K     |██████████████████████          | 604 kB 28.1 MB/s eta 0:00:01\r\u001b[K     |██████████████████████▎         | 614 kB 28.1 MB/s eta 0:00:01\r\u001b[K     |██████████████████████▊         | 624 kB 28.1 MB/s eta 0:00:01\r\u001b[K     |███████████████████████         | 634 kB 28.1 MB/s eta 0:00:01\r\u001b[K     |███████████████████████▍        | 645 kB 28.1 MB/s eta 0:00:01\r\u001b[K     |███████████████████████▉        | 655 kB 28.1 MB/s eta 0:00:01\r\u001b[K     |████████████████████████▏       | 665 kB 28.1 MB/s eta 0:00:01\r\u001b[K     |████████████████████████▌       | 675 kB 28.1 MB/s eta 0:00:01\r\u001b[K     |█████████████████████████       | 686 kB 28.1 MB/s eta 0:00:01\r\u001b[K     |█████████████████████████▎      | 696 kB 28.1 MB/s eta 0:00:01\r\u001b[K     |█████████████████████████▋      | 706 kB 28.1 MB/s eta 0:00:01\r\u001b[K     |██████████████████████████      | 716 kB 28.1 MB/s eta 0:00:01\r\u001b[K     |██████████████████████████▍     | 727 kB 28.1 MB/s eta 0:00:01\r\u001b[K     |██████████████████████████▊     | 737 kB 28.1 MB/s eta 0:00:01\r\u001b[K     |███████████████████████████▏    | 747 kB 28.1 MB/s eta 0:00:01\r\u001b[K     |███████████████████████████▌    | 757 kB 28.1 MB/s eta 0:00:01\r\u001b[K     |███████████████████████████▉    | 768 kB 28.1 MB/s eta 0:00:01\r\u001b[K     |████████████████████████████▎   | 778 kB 28.1 MB/s eta 0:00:01\r\u001b[K     |████████████████████████████▋   | 788 kB 28.1 MB/s eta 0:00:01\r\u001b[K     |█████████████████████████████   | 798 kB 28.1 MB/s eta 0:00:01\r\u001b[K     |█████████████████████████████▍  | 808 kB 28.1 MB/s eta 0:00:01\r\u001b[K     |█████████████████████████████▊  | 819 kB 28.1 MB/s eta 0:00:01\r\u001b[K     |██████████████████████████████▏ | 829 kB 28.1 MB/s eta 0:00:01\r\u001b[K     |██████████████████████████████▌ | 839 kB 28.1 MB/s eta 0:00:01\r\u001b[K     |██████████████████████████████▉ | 849 kB 28.1 MB/s eta 0:00:01\r\u001b[K     |███████████████████████████████▎| 860 kB 28.1 MB/s eta 0:00:01\r\u001b[K     |███████████████████████████████▋| 870 kB 28.1 MB/s eta 0:00:01\r\u001b[K     |████████████████████████████████| 880 kB 28.1 MB/s eta 0:00:01\r\u001b[K     |████████████████████████████████| 881 kB 28.1 MB/s \n",
            "\u001b[?25hCollecting konlpy>=0.4.4\n",
            "  Downloading konlpy-0.6.0-py2.py3-none-any.whl (19.4 MB)\n",
            "\u001b[K     |████████████████████████████████| 19.4 MB 5.5 MB/s \n",
            "\u001b[?25hCollecting Jpype1>=0.6.1\n",
            "  Downloading JPype1-1.3.0-cp37-cp37m-manylinux_2_5_x86_64.manylinux1_x86_64.whl (448 kB)\n",
            "\u001b[K     |████████████████████████████████| 448 kB 54.1 MB/s \n",
            "\u001b[?25hRequirement already satisfied: typing-extensions in /usr/local/lib/python3.7/dist-packages (from Jpype1>=0.6.1->customized_konlpy) (3.7.4.3)\n",
            "Requirement already satisfied: numpy>=1.6 in /usr/local/lib/python3.7/dist-packages (from konlpy>=0.4.4->customized_konlpy) (1.19.5)\n",
            "Requirement already satisfied: lxml>=4.1.0 in /usr/local/lib/python3.7/dist-packages (from konlpy>=0.4.4->customized_konlpy) (4.2.6)\n",
            "Installing collected packages: Jpype1, konlpy, customized-konlpy\n",
            "Successfully installed Jpype1-1.3.0 customized-konlpy-0.0.64 konlpy-0.6.0\n"
          ]
        }
      ],
      "source": [
        "pip install customized_konlpy"
      ]
    },
    {
      "cell_type": "code",
      "execution_count": 6,
      "metadata": {
        "id": "5Cr0ERXqpCEm"
      },
      "outputs": [],
      "source": [
        "import os\n",
        "from hanspell import spell_checker\n",
        "\n",
        "import urllib.request\n",
        "from soynlp import DoublespaceLineCorpus\n",
        "from soynlp.word import WordExtractor\n",
        "from soynlp.tokenizer import LTokenizer\n",
        "from soynlp.tokenizer import MaxScoreTokenizer\n",
        "from soynlp.normalizer import *"
      ]
    },
    {
      "cell_type": "markdown",
      "metadata": {
        "id": "a3CdzqLFpADv"
      },
      "source": [
        "## 데이터 불러오기"
      ]
    },
    {
      "cell_type": "code",
      "execution_count": 7,
      "metadata": {
        "colab": {
          "base_uri": "https://localhost:8080/"
        },
        "id": "5dBPvqzqpG_w",
        "outputId": "261b453d-b6d8-4b66-ac9f-124a9fa20c27"
      },
      "outputs": [
        {
          "output_type": "stream",
          "name": "stdout",
          "text": [
            "12600\n"
          ]
        }
      ],
      "source": [
        "root = '/content/drive/MyDrive/news_class9x1400/'\n",
        "categories = os.listdir(root)\n",
        "\n",
        "dataset = []\n",
        "\n",
        "for cat in categories:\n",
        "  files = os.listdir(root + cat)\n",
        "  for i, f in enumerate(files):\n",
        "    fname = root + cat + '/' + f\n",
        "    file = open(fname, 'r', encoding='utf-8')\n",
        "    strings = file.read()\n",
        "    dataset.append([strings])\n",
        "    file.close()\n",
        "\n",
        "print(len(dataset))"
      ]
    },
    {
      "cell_type": "code",
      "execution_count": 8,
      "metadata": {
        "colab": {
          "base_uri": "https://localhost:8080/"
        },
        "id": "OMI63w5l_099",
        "outputId": "2ef6edf0-2cac-4986-9ec7-a37a4eeb44df"
      },
      "outputs": [
        {
          "output_type": "execute_result",
          "data": {
            "text/plain": [
              "['한 달 새 외환보유고 48억 달러 큰폭 증가, 왜?\\n지난 달 국내 외환보유액이 크게 늘었다.\\n2일 한국은행이 내놓은 자료를 보면, 지난 3월 말 현재 외환보유액은 2063억 4000만 달러로 집계됐다.\\n2월 말 2015억 4000만 달러에 비해서 48억 달러가 증가한 금액이다.\\n지난 2006년 11월 48억 달러 증가이후 가장 큰 폭으로 증가했다고 한은쪽은 덧붙였다.\\n한은은 이같은 외환보유액 증가 이유에 대해, 지난달 유로화와 엔화 등 다른 나라 통화가 상대적으로 강세를 보였기 때문이라고 설명했다.\\n이들 나라의 통화로 표시된 자산의 달러 환산액이 크게 증가했다는 것이다.\\n또 지난달에는 국민연금과 통화스와프 만기도래분 5억 달러가 새로 들어왔고, 한은이 가지고 있던 외환의 운영수익도 일부 발생한 것으로 알려졌다.\\n하근철 한은 국제기획팀 차장은 지난 달의 경우 (외환) 증가 요인만 있었고, 감소 요인은 없었다면서 은행의 외화자금 조달 사정이 크게 좋아져서 추가로 (한은이) 달러 공급에 나서지 않았다고 말했다.\\n외환당국에서 꼽는 달러 감소 요인은 쉽게 말하면, 외환시장에 개입해 달러를 내다 파는 것을 나타내기도 한다.\\n이미 작년 한해동안 정부는 인위적으로 외환시장에 사실상 개입하면서 600억 달러 정도의 외환보유고를 날려 버리기도 했다.\\n대신 올 들어서면서 정부는 이른바 심리적인 저지선인 외환보유고 2000억 달러를 지키기 위해 시장 개입을 최대한 자제해 왔다.\\n대신 통화스와프 협정을 맺은 미국에게 현재 300억 달러 수준의 스와프 규모를 1000억 달러까지 확대해달라고 요청하거나, 일본 등과의 스와프 기간 연장 등을 통해 외환시장 안정에 나서고 있다.\\n한편, 3월 말 기준으로 외환보유액 구성은 유가증권이 1842억 4000만 달러(89.3%)로 가장많다.\\n이어 예치금 213억 9000만 달러(10.4%), 금 8000만 달러(0.04%) 등의 순이다.']"
            ]
          },
          "metadata": {},
          "execution_count": 8
        }
      ],
      "source": [
        "dataset[1427]"
      ]
    },
    {
      "cell_type": "markdown",
      "metadata": {
        "id": "LAMmcAbI__hf"
      },
      "source": [
        "## 데이터 전처리"
      ]
    },
    {
      "cell_type": "code",
      "execution_count": 9,
      "metadata": {
        "colab": {
          "base_uri": "https://localhost:8080/"
        },
        "id": "kuOqE2rFCdh5",
        "outputId": "9b08efd8-4230-4b61-b9ea-1dbd0b1713b2"
      },
      "outputs": [
        {
          "output_type": "stream",
          "name": "stdout",
          "text": [
            "Collecting kss\n",
            "  Downloading kss-3.4.tar.gz (42.4 MB)\n",
            "\u001b[K     |████████████████████████████████| 42.4 MB 1.2 MB/s \n",
            "\u001b[?25hCollecting emoji\n",
            "  Downloading emoji-1.7.0.tar.gz (175 kB)\n",
            "\u001b[K     |████████████████████████████████| 175 kB 40.4 MB/s \n",
            "\u001b[?25hRequirement already satisfied: regex in /usr/local/lib/python3.7/dist-packages (from kss) (2019.12.20)\n",
            "Building wheels for collected packages: kss, emoji\n",
            "  Building wheel for kss (setup.py) ... \u001b[?25l\u001b[?25hdone\n",
            "  Created wheel for kss: filename=kss-3.4-py3-none-any.whl size=42449209 sha256=ae2d905781ee0c04d3ca45157c78701ae4f8a004da8a2df94afacfa50309fe1d\n",
            "  Stored in directory: /root/.cache/pip/wheels/06/8e/5b/305f0a804fba3943f353f1b0e3cb1fad39e4f5ae4893ea9590\n",
            "  Building wheel for emoji (setup.py) ... \u001b[?25l\u001b[?25hdone\n",
            "  Created wheel for emoji: filename=emoji-1.7.0-py3-none-any.whl size=171046 sha256=425be92b560c0da99ac14f56c5f248f84b8fc58610c32102676cb80d5a4a9bd5\n",
            "  Stored in directory: /root/.cache/pip/wheels/8a/4e/b6/57b01db010d17ef6ea9b40300af725ef3e210cb1acfb7ac8b6\n",
            "Successfully built kss emoji\n",
            "Installing collected packages: emoji, kss\n",
            "Successfully installed emoji-1.7.0 kss-3.4\n"
          ]
        }
      ],
      "source": [
        "!pip install kss"
      ]
    },
    {
      "cell_type": "code",
      "execution_count": 11,
      "metadata": {
        "colab": {
          "base_uri": "https://localhost:8080/",
          "height": 424
        },
        "id": "bqZ4DX-5_3zR",
        "outputId": "b612c01f-7f9f-4b37-9695-7cb0a70d0d9c"
      },
      "outputs": [
        {
          "metadata": {
            "tags": null
          },
          "name": "stderr",
          "output_type": "stream",
          "text": [
            "[Korean Sentence Splitter]: Initializing Pynori...\n"
          ]
        },
        {
          "output_type": "error",
          "ename": "KeyboardInterrupt",
          "evalue": "ignored",
          "traceback": [
            "\u001b[0;31m---------------------------------------------------------------------------\u001b[0m",
            "\u001b[0;31mKeyboardInterrupt\u001b[0m                         Traceback (most recent call last)",
            "\u001b[0;32m<ipython-input-11-30d2e5b59ca0>\u001b[0m in \u001b[0;36m<module>\u001b[0;34m()\u001b[0m\n\u001b[1;32m     10\u001b[0m \u001b[0;34m\u001b[0m\u001b[0m\n\u001b[1;32m     11\u001b[0m   \u001b[0;32mfor\u001b[0m \u001b[0msentence\u001b[0m \u001b[0;32min\u001b[0m \u001b[0msentences\u001b[0m\u001b[0;34m:\u001b[0m\u001b[0;34m\u001b[0m\u001b[0;34m\u001b[0m\u001b[0m\n\u001b[0;32m---> 12\u001b[0;31m     \u001b[0mprocess_dataset\u001b[0m\u001b[0;34m.\u001b[0m\u001b[0mextend\u001b[0m\u001b[0;34m(\u001b[0m\u001b[0mkss\u001b[0m\u001b[0;34m.\u001b[0m\u001b[0msplit_sentences\u001b[0m\u001b[0;34m(\u001b[0m\u001b[0msentence\u001b[0m\u001b[0;34m)\u001b[0m\u001b[0;34m)\u001b[0m\u001b[0;34m\u001b[0m\u001b[0;34m\u001b[0m\u001b[0m\n\u001b[0m\u001b[1;32m     13\u001b[0m \u001b[0;34m\u001b[0m\u001b[0m\n\u001b[1;32m     14\u001b[0m \u001b[0;34m\u001b[0m\u001b[0m\n",
            "\u001b[0;32m/usr/local/lib/python3.7/dist-packages/kss/kss.py\u001b[0m in \u001b[0;36msplit_sentences\u001b[0;34m(text, use_heuristic, use_quotes_brackets_processing, max_recover_step, max_recover_length, backend, num_workers, disable_gc)\u001b[0m\n\u001b[1;32m    124\u001b[0m         \u001b[0mpreprocessed_list\u001b[0m \u001b[0;34m=\u001b[0m \u001b[0;34m[\u001b[0m\u001b[0mbuild_preprocessed_list\u001b[0m\u001b[0;34m(\u001b[0m\u001b[0mt\u001b[0m\u001b[0;34m)\u001b[0m \u001b[0;32mfor\u001b[0m \u001b[0mt\u001b[0m \u001b[0;32min\u001b[0m \u001b[0m_text\u001b[0m\u001b[0;34m]\u001b[0m\u001b[0;34m\u001b[0m\u001b[0;34m\u001b[0m\u001b[0m\n\u001b[1;32m    125\u001b[0m \u001b[0;34m\u001b[0m\u001b[0m\n\u001b[0;32m--> 126\u001b[0;31m     \u001b[0;32mfor\u001b[0m \u001b[0minput_text\u001b[0m \u001b[0;32min\u001b[0m \u001b[0mpreprocessed_list\u001b[0m\u001b[0;34m:\u001b[0m\u001b[0;34m\u001b[0m\u001b[0;34m\u001b[0m\u001b[0m\n\u001b[0m\u001b[1;32m    127\u001b[0m         \u001b[0;32mif\u001b[0m \u001b[0mlen\u001b[0m\u001b[0;34m(\u001b[0m\u001b[0minput_text\u001b[0m\u001b[0;34m)\u001b[0m \u001b[0;34m==\u001b[0m \u001b[0;36m0\u001b[0m\u001b[0;34m:\u001b[0m\u001b[0;34m\u001b[0m\u001b[0;34m\u001b[0m\u001b[0m\n\u001b[1;32m    128\u001b[0m             \u001b[0minput_text\u001b[0m\u001b[0;34m.\u001b[0m\u001b[0mappend\u001b[0m\u001b[0;34m(\u001b[0m\u001b[0;34m\"\"\u001b[0m\u001b[0;34m)\u001b[0m\u001b[0;34m\u001b[0m\u001b[0;34m\u001b[0m\u001b[0m\n",
            "\u001b[0;32m/usr/lib/python3.7/concurrent/futures/process.py\u001b[0m in \u001b[0;36m_chain_from_iterable_of_lists\u001b[0;34m(iterable)\u001b[0m\n\u001b[1;32m    481\u001b[0m     \u001b[0mcareful\u001b[0m \u001b[0;32mnot\u001b[0m \u001b[0mto\u001b[0m \u001b[0mkeep\u001b[0m \u001b[0mreferences\u001b[0m \u001b[0mto\u001b[0m \u001b[0myielded\u001b[0m \u001b[0mobjects\u001b[0m\u001b[0;34m.\u001b[0m\u001b[0;34m\u001b[0m\u001b[0;34m\u001b[0m\u001b[0m\n\u001b[1;32m    482\u001b[0m     \"\"\"\n\u001b[0;32m--> 483\u001b[0;31m     \u001b[0;32mfor\u001b[0m \u001b[0melement\u001b[0m \u001b[0;32min\u001b[0m \u001b[0miterable\u001b[0m\u001b[0;34m:\u001b[0m\u001b[0;34m\u001b[0m\u001b[0;34m\u001b[0m\u001b[0m\n\u001b[0m\u001b[1;32m    484\u001b[0m         \u001b[0melement\u001b[0m\u001b[0;34m.\u001b[0m\u001b[0mreverse\u001b[0m\u001b[0;34m(\u001b[0m\u001b[0;34m)\u001b[0m\u001b[0;34m\u001b[0m\u001b[0;34m\u001b[0m\u001b[0m\n\u001b[1;32m    485\u001b[0m         \u001b[0;32mwhile\u001b[0m \u001b[0melement\u001b[0m\u001b[0;34m:\u001b[0m\u001b[0;34m\u001b[0m\u001b[0;34m\u001b[0m\u001b[0m\n",
            "\u001b[0;32m/usr/lib/python3.7/concurrent/futures/_base.py\u001b[0m in \u001b[0;36mresult_iterator\u001b[0;34m()\u001b[0m\n\u001b[1;32m    596\u001b[0m                     \u001b[0;31m# Careful not to keep a reference to the popped future\u001b[0m\u001b[0;34m\u001b[0m\u001b[0;34m\u001b[0m\u001b[0;34m\u001b[0m\u001b[0m\n\u001b[1;32m    597\u001b[0m                     \u001b[0;32mif\u001b[0m \u001b[0mtimeout\u001b[0m \u001b[0;32mis\u001b[0m \u001b[0;32mNone\u001b[0m\u001b[0;34m:\u001b[0m\u001b[0;34m\u001b[0m\u001b[0;34m\u001b[0m\u001b[0m\n\u001b[0;32m--> 598\u001b[0;31m                         \u001b[0;32myield\u001b[0m \u001b[0mfs\u001b[0m\u001b[0;34m.\u001b[0m\u001b[0mpop\u001b[0m\u001b[0;34m(\u001b[0m\u001b[0;34m)\u001b[0m\u001b[0;34m.\u001b[0m\u001b[0mresult\u001b[0m\u001b[0;34m(\u001b[0m\u001b[0;34m)\u001b[0m\u001b[0;34m\u001b[0m\u001b[0;34m\u001b[0m\u001b[0m\n\u001b[0m\u001b[1;32m    599\u001b[0m                     \u001b[0;32melse\u001b[0m\u001b[0;34m:\u001b[0m\u001b[0;34m\u001b[0m\u001b[0;34m\u001b[0m\u001b[0m\n\u001b[1;32m    600\u001b[0m                         \u001b[0;32myield\u001b[0m \u001b[0mfs\u001b[0m\u001b[0;34m.\u001b[0m\u001b[0mpop\u001b[0m\u001b[0;34m(\u001b[0m\u001b[0;34m)\u001b[0m\u001b[0;34m.\u001b[0m\u001b[0mresult\u001b[0m\u001b[0;34m(\u001b[0m\u001b[0mend_time\u001b[0m \u001b[0;34m-\u001b[0m \u001b[0mtime\u001b[0m\u001b[0;34m.\u001b[0m\u001b[0mmonotonic\u001b[0m\u001b[0;34m(\u001b[0m\u001b[0;34m)\u001b[0m\u001b[0;34m)\u001b[0m\u001b[0;34m\u001b[0m\u001b[0;34m\u001b[0m\u001b[0m\n",
            "\u001b[0;32m/usr/lib/python3.7/concurrent/futures/_base.py\u001b[0m in \u001b[0;36mresult\u001b[0;34m(self, timeout)\u001b[0m\n\u001b[1;32m    428\u001b[0m                 \u001b[0;32mreturn\u001b[0m \u001b[0mself\u001b[0m\u001b[0;34m.\u001b[0m\u001b[0m__get_result\u001b[0m\u001b[0;34m(\u001b[0m\u001b[0;34m)\u001b[0m\u001b[0;34m\u001b[0m\u001b[0;34m\u001b[0m\u001b[0m\n\u001b[1;32m    429\u001b[0m \u001b[0;34m\u001b[0m\u001b[0m\n\u001b[0;32m--> 430\u001b[0;31m             \u001b[0mself\u001b[0m\u001b[0;34m.\u001b[0m\u001b[0m_condition\u001b[0m\u001b[0;34m.\u001b[0m\u001b[0mwait\u001b[0m\u001b[0;34m(\u001b[0m\u001b[0mtimeout\u001b[0m\u001b[0;34m)\u001b[0m\u001b[0;34m\u001b[0m\u001b[0;34m\u001b[0m\u001b[0m\n\u001b[0m\u001b[1;32m    431\u001b[0m \u001b[0;34m\u001b[0m\u001b[0m\n\u001b[1;32m    432\u001b[0m             \u001b[0;32mif\u001b[0m \u001b[0mself\u001b[0m\u001b[0;34m.\u001b[0m\u001b[0m_state\u001b[0m \u001b[0;32min\u001b[0m \u001b[0;34m[\u001b[0m\u001b[0mCANCELLED\u001b[0m\u001b[0;34m,\u001b[0m \u001b[0mCANCELLED_AND_NOTIFIED\u001b[0m\u001b[0;34m]\u001b[0m\u001b[0;34m:\u001b[0m\u001b[0;34m\u001b[0m\u001b[0;34m\u001b[0m\u001b[0m\n",
            "\u001b[0;32m/usr/lib/python3.7/threading.py\u001b[0m in \u001b[0;36mwait\u001b[0;34m(self, timeout)\u001b[0m\n\u001b[1;32m    294\u001b[0m         \u001b[0;32mtry\u001b[0m\u001b[0;34m:\u001b[0m    \u001b[0;31m# restore state no matter what (e.g., KeyboardInterrupt)\u001b[0m\u001b[0;34m\u001b[0m\u001b[0;34m\u001b[0m\u001b[0m\n\u001b[1;32m    295\u001b[0m             \u001b[0;32mif\u001b[0m \u001b[0mtimeout\u001b[0m \u001b[0;32mis\u001b[0m \u001b[0;32mNone\u001b[0m\u001b[0;34m:\u001b[0m\u001b[0;34m\u001b[0m\u001b[0;34m\u001b[0m\u001b[0m\n\u001b[0;32m--> 296\u001b[0;31m                 \u001b[0mwaiter\u001b[0m\u001b[0;34m.\u001b[0m\u001b[0macquire\u001b[0m\u001b[0;34m(\u001b[0m\u001b[0;34m)\u001b[0m\u001b[0;34m\u001b[0m\u001b[0;34m\u001b[0m\u001b[0m\n\u001b[0m\u001b[1;32m    297\u001b[0m                 \u001b[0mgotit\u001b[0m \u001b[0;34m=\u001b[0m \u001b[0;32mTrue\u001b[0m\u001b[0;34m\u001b[0m\u001b[0;34m\u001b[0m\u001b[0m\n\u001b[1;32m    298\u001b[0m             \u001b[0;32melse\u001b[0m\u001b[0;34m:\u001b[0m\u001b[0;34m\u001b[0m\u001b[0;34m\u001b[0m\u001b[0m\n",
            "\u001b[0;31mKeyboardInterrupt\u001b[0m: "
          ]
        }
      ],
      "source": [
        "import kss \n",
        "\n",
        "process_dataset = []\n",
        "\n",
        "for sentences in dataset:\n",
        "  sentences = sentences[0]\n",
        "  sentences = sentences.replace(\"'\", '')\n",
        "  sentences = sentences.replace('\"', '')\n",
        "  sentences = sentences.split(\"\\n\")\n",
        "\n",
        "  for sentence in sentences:\n",
        "    process_dataset.extend(kss.split_sentences(sentence))\n",
        "\n",
        "\n",
        "len(process_dataset)"
      ]
    },
    {
      "cell_type": "code",
      "source": [
        "# 4h 36m \n",
        "\n",
        "len(process_dataset)"
      ],
      "metadata": {
        "colab": {
          "base_uri": "https://localhost:8080/"
        },
        "id": "sXmDsOkbuiNI",
        "outputId": "53b6c273-50a5-4baa-bdc6-0b3c873fd884"
      },
      "execution_count": 12,
      "outputs": [
        {
          "output_type": "execute_result",
          "data": {
            "text/plain": [
              "27954"
            ]
          },
          "metadata": {},
          "execution_count": 12
        }
      ]
    },
    {
      "cell_type": "code",
      "source": [
        "from sklearn.model_selection import train_test_split\n",
        "\n",
        "train, test = train_test_split(process_dataset, test_size = 0.2, random_state  = 42)\n",
        "print(len(train), len(test))"
      ],
      "metadata": {
        "colab": {
          "base_uri": "https://localhost:8080/"
        },
        "id": "-9ISMwvSmTlo",
        "outputId": "0d29df41-be39-4b6a-8eae-adb15681d329"
      },
      "execution_count": 13,
      "outputs": [
        {
          "output_type": "stream",
          "name": "stdout",
          "text": [
            "22363 5591\n"
          ]
        }
      ]
    },
    {
      "cell_type": "code",
      "source": [
        "def save_datafile(file_name, dataset):\n",
        "  with open(\n",
        "      os.path.join(root, file_name), mode = 'w', encoding='utf-8'\n",
        "  ) as f:\n",
        "    for data in dataset:\n",
        "      f.write(data)\n",
        "\n",
        "save_datafile('train.txt', train)\n",
        "save_datafile('test.txt', test)\n",
        "\n",
        "print('train, test dataset 저장 완료!')"
      ],
      "metadata": {
        "colab": {
          "base_uri": "https://localhost:8080/"
        },
        "id": "PXPghQzzmp8Q",
        "outputId": "9b363bf0-5775-4d9f-d6e1-d53289092c8a"
      },
      "execution_count": 14,
      "outputs": [
        {
          "output_type": "stream",
          "name": "stdout",
          "text": [
            "train, test dataset 저장 완료!\n"
          ]
        }
      ]
    },
    {
      "cell_type": "code",
      "source": [
        ""
      ],
      "metadata": {
        "id": "LqZH3YA0nRA0"
      },
      "execution_count": null,
      "outputs": []
    }
  ],
  "metadata": {
    "colab": {
      "name": "CP2_KoSpacing.ipynb",
      "provenance": [],
      "mount_file_id": "1GOzxSVo7c6s_VIL1IPiy2rgupLE9ZRqc",
      "authorship_tag": "ABX9TyPqU78i0K04MHBV5tmDC+md",
      "include_colab_link": true
    },
    "kernelspec": {
      "display_name": "Python 3",
      "name": "python3"
    },
    "language_info": {
      "name": "python"
    }
  },
  "nbformat": 4,
  "nbformat_minor": 0
}